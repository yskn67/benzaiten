{
 "cells": [
  {
   "cell_type": "code",
   "execution_count": 50,
   "metadata": {},
   "outputs": [],
   "source": [
    "import torch\n",
    "import torch.nn as nn\n",
    "import torch.nn.functional as F"
   ]
  },
  {
   "cell_type": "code",
   "execution_count": 3,
   "metadata": {},
   "outputs": [
    {
     "data": {
      "text/plain": [
       "True"
      ]
     },
     "execution_count": 3,
     "metadata": {},
     "output_type": "execute_result"
    }
   ],
   "source": [
    "torch.cuda.is_available()"
   ]
  },
  {
   "cell_type": "code",
   "execution_count": 4,
   "metadata": {},
   "outputs": [
    {
     "data": {
      "text/plain": [
       "torch.Size([2, 3, 4])"
      ]
     },
     "execution_count": 4,
     "metadata": {},
     "output_type": "execute_result"
    }
   ],
   "source": [
    "t = torch.tensor([\n",
    "    [[0, 0, 0, 1], [0, 1, 0, 0], [1, 0, 0, 0]],\n",
    "    [[1, 0, 1, 0], [0, 1, 1, 1], [1, 1, 1, 1]],\n",
    "], dtype=torch.long)\n",
    "t.size()"
   ]
  },
  {
   "cell_type": "code",
   "execution_count": 46,
   "metadata": {},
   "outputs": [
    {
     "data": {
      "text/plain": [
       "torch.Size([12, 32])"
      ]
     },
     "execution_count": 46,
     "metadata": {},
     "output_type": "execute_result"
    }
   ],
   "source": [
    "latent_dim = 32\n",
    "emb = nn.Embedding(12, latent_dim)\n",
    "emb._parameters[\"weight\"].size()"
   ]
  },
  {
   "cell_type": "code",
   "execution_count": 47,
   "metadata": {},
   "outputs": [
    {
     "name": "stdout",
     "output_type": "stream",
     "text": [
      "torch.int64\n"
     ]
    },
    {
     "data": {
      "text/plain": [
       "tensor([[0, 3],\n",
       "        [1, 1],\n",
       "        [2, 0],\n",
       "        [3, 0],\n",
       "        [3, 2],\n",
       "        [4, 1],\n",
       "        [4, 2],\n",
       "        [4, 3],\n",
       "        [5, 0],\n",
       "        [5, 1],\n",
       "        [5, 2],\n",
       "        [5, 3]])"
      ]
     },
     "execution_count": 47,
     "metadata": {},
     "output_type": "execute_result"
    }
   ],
   "source": [
    "nz = (t.reshape(2 * 3, 4) == 1).nonzero()\n",
    "print(nz.dtype)\n",
    "nz"
   ]
  },
  {
   "cell_type": "code",
   "execution_count": 52,
   "metadata": {},
   "outputs": [
    {
     "name": "stdout",
     "output_type": "stream",
     "text": [
      "torch.Size([2, 3, 32])\n"
     ]
    },
    {
     "data": {
      "text/plain": [
       "tensor([[[ 0.7494,  0.6090, -0.0744, -0.8256, -0.7599, -0.9524,  0.7652,\n",
       "           0.8299,  0.4665, -0.7549,  0.9691,  0.6940, -0.5492,  0.6778,\n",
       "           0.0093,  0.9131, -0.4749, -0.8238, -0.6540, -0.8483, -0.5127,\n",
       "          -0.0151,  0.8002,  0.1865,  0.2520,  0.8869,  0.5657,  0.5510,\n",
       "          -0.7548,  0.3551,  0.7456,  0.8163],\n",
       "         [ 0.0927, -0.8706,  0.8783, -0.9351,  0.7961,  0.5267,  0.7198,\n",
       "          -0.0888, -0.1457, -0.7328,  0.5399,  0.9045, -0.7991, -0.9149,\n",
       "           0.5914, -0.5809, -0.6842,  0.5301, -0.8073,  0.8383,  0.4856,\n",
       "          -0.2924,  0.8913, -0.5373,  0.4451, -0.1880, -0.2651,  0.0866,\n",
       "           0.1447,  0.8980, -0.9038,  0.6857],\n",
       "         [-0.0608, -0.1533,  0.8917,  0.7551,  0.3108, -0.2492, -0.0867,\n",
       "           0.5447,  0.6108,  0.8948,  0.6592, -0.3702,  0.4602,  0.5060,\n",
       "           0.8110,  0.3009, -0.4276, -0.4318, -0.0049, -0.5512,  0.1169,\n",
       "           0.5857, -0.8945,  0.3297, -0.9927, -0.0535, -0.4953, -0.5299,\n",
       "          -0.6824, -0.9546,  0.8964,  0.8661]],\n",
       "\n",
       "        [[ 0.7611, -0.2455,  0.4020,  0.3616,  0.9468, -0.8630,  0.9685,\n",
       "           0.9833, -0.6443,  0.8779,  0.9731,  0.0305, -0.0148,  0.4557,\n",
       "           0.9982, -0.9120, -0.2280, -0.2430,  0.6801, -0.7477,  0.4150,\n",
       "           0.8866, -0.9865, -0.6899, -0.9995, -0.5132,  0.3641, -0.2999,\n",
       "          -0.8911, -0.9967,  0.6140,  0.9369],\n",
       "         [ 0.9718, -0.6197,  0.2818, -0.9981,  0.9170, -0.9809,  0.9994,\n",
       "           0.9937, -0.8065, -0.9639,  0.9994,  0.9922, -0.9769, -0.6623,\n",
       "           0.9956, -0.7476, -0.8105, -0.3488, -0.7885, -0.3646,  0.2804,\n",
       "           0.3956,  0.9005, -0.9220, -0.5104,  0.6067,  0.8602,  0.7562,\n",
       "          -0.8920,  0.4724, -0.8533,  0.9830],\n",
       "         [ 0.9682, -0.7059,  0.9378, -0.9864,  0.9555, -0.9885,  0.9993,\n",
       "           0.9981, -0.3857, -0.5024,  0.9999,  0.9831, -0.9388, -0.2351,\n",
       "           0.9995, -0.5764, -0.9194, -0.6784, -0.7903, -0.7626,  0.3847,\n",
       "           0.7967,  0.0309, -0.8509, -0.9976,  0.5717,  0.6358,  0.3776,\n",
       "          -0.9787, -0.8782,  0.1836,  0.9988]]], grad_fn=<TanhBackward0>)"
      ]
     },
     "execution_count": 52,
     "metadata": {},
     "output_type": "execute_result"
    }
   ],
   "source": [
    "batch_size = 2\n",
    "n_steps = 3\n",
    "chord_dim = 4\n",
    "nz = (t.reshape(batch_size * n_steps, chord_dim) == 1).nonzero()\n",
    "embedding = emb(nz[:, 1])\n",
    "expand_index = nz[:, 0].repeat(latent_dim, 1).transpose(0, 1)\n",
    "chord_filter = torch.zeros(batch_size * n_steps, latent_dim, dtype=torch.float, device=\"cpu\").scatter_reduce(0, expand_index, embedding, reduce=\"sum\")\n",
    "chord_filter = F.tanh(chord_filter.reshape(batch_size, n_steps, latent_dim))\n",
    "print(chord_filter.size())\n",
    "chord_filter"
   ]
  },
  {
   "cell_type": "code",
   "execution_count": 20,
   "metadata": {},
   "outputs": [
    {
     "data": {
      "text/plain": [
       "torch.Size([3, 32])"
      ]
     },
     "execution_count": 20,
     "metadata": {},
     "output_type": "execute_result"
    }
   ],
   "source": [
    "emb(torch.tensor([0, 1, 2], dtype=torch.long)).size()"
   ]
  },
  {
   "cell_type": "code",
   "execution_count": 44,
   "metadata": {},
   "outputs": [
    {
     "name": "stdout",
     "output_type": "stream",
     "text": [
      "torch.Size([6, 3])\n",
      "torch.Size([6])\n",
      "torch.Size([6, 3])\n",
      "torch.Size([6, 3])\n",
      "torch.Size([6, 3])\n"
     ]
    },
    {
     "data": {
      "text/plain": [
       "tensor([[[ 8., 10., 12.],\n",
       "         [ 4.,  5.,  6.],\n",
       "         [ 7.,  8.,  9.]],\n",
       "\n",
       "        [[ 1.,  2.,  3.],\n",
       "         [ 4.,  5.,  6.],\n",
       "         [ 0.,  0.,  0.]]])"
      ]
     },
     "execution_count": 44,
     "metadata": {},
     "output_type": "execute_result"
    }
   ],
   "source": [
    "embedding = torch.tensor([[1., 2., 3.], [4., 5., 6.], [7, 8, 9], [1., 2., 3.], [4., 5., 6.], [7, 8, 9]])\n",
    "print(embedding.size())\n",
    "index = torch.tensor([0, 1, 2, 3, 4, 0])\n",
    "print(index.size())\n",
    "expand_index = index.repeat(3, 1).transpose(0, 1)\n",
    "print(expand_index.size())\n",
    "input = torch.zeros(2 * 3, 3, dtype=torch.float)\n",
    "print(input.size())\n",
    "result = input.scatter_reduce(0, expand_index, embedding, reduce=\"sum\")\n",
    "print(result.size())\n",
    "result.reshape(2, 3, 3)"
   ]
  },
  {
   "cell_type": "code",
   "execution_count": null,
   "metadata": {},
   "outputs": [],
   "source": []
  }
 ],
 "metadata": {
  "kernelspec": {
   "display_name": "Python 3",
   "language": "python",
   "name": "python3"
  },
  "language_info": {
   "codemirror_mode": {
    "name": "ipython",
    "version": 3
   },
   "file_extension": ".py",
   "mimetype": "text/x-python",
   "name": "python",
   "nbconvert_exporter": "python",
   "pygments_lexer": "ipython3",
   "version": "3.10.12"
  }
 },
 "nbformat": 4,
 "nbformat_minor": 2
}
