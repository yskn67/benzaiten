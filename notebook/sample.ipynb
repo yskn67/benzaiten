{
 "cells": [
  {
   "cell_type": "code",
   "execution_count": null,
   "id": "578926d6-558b-4423-b619-d370e9f48577",
   "metadata": {},
   "outputs": [],
   "source": [
    "from magenta.models.music_vae import configs\n",
    "from magenta.models.music_vae.trained_model import TrainedModel"
   ]
  },
  {
   "cell_type": "code",
   "execution_count": 1,
   "id": "c21be9af-59be-4545-8a46-b0948fb9d124",
   "metadata": {},
   "outputs": [
    {
     "name": "stdout",
     "output_type": "stream",
     "text": [
      "Hello\n"
     ]
    }
   ],
   "source": [
    "print('Hello')"
   ]
  },
  {
   "cell_type": "code",
   "execution_count": null,
   "id": "4c48dda4",
   "metadata": {},
   "outputs": [],
   "source": [
    "import magenta"
   ]
  },
  {
   "cell_type": "code",
   "execution_count": 1,
   "id": "56ce2ee7-e89b-4610-9f1c-8e450c7a41ea",
   "metadata": {},
   "outputs": [],
   "source": [
    "import music21"
   ]
  },
  {
   "cell_type": "code",
   "execution_count": null,
   "id": "010a77ca-7419-434e-9557-612cdb86b572",
   "metadata": {},
   "outputs": [],
   "source": []
  }
 ],
 "metadata": {
  "kernelspec": {
   "display_name": "Python 3 (ipykernel)",
   "language": "python",
   "name": "python3"
  },
  "language_info": {
   "codemirror_mode": {
    "name": "ipython",
    "version": 3
   },
   "file_extension": ".py",
   "mimetype": "text/x-python",
   "name": "python",
   "nbconvert_exporter": "python",
   "pygments_lexer": "ipython3",
   "version": "3.8.18"
  }
 },
 "nbformat": 4,
 "nbformat_minor": 5
}
